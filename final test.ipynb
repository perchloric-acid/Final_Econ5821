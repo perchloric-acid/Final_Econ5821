{
 "cells": [
  {
   "attachments": {},
   "cell_type": "markdown",
   "metadata": {},
   "source": [
    "First, we load data into memory and perform a simple statistical analysis on the data. And \"data\" stands for the train data, \"oosdata\" stands for the test data."
   ]
  },
  {
   "cell_type": "code",
   "execution_count": 1,
   "metadata": {
    "vscode": {
     "languageId": "r"
    }
   },
   "outputs": [
    {
     "data": {
      "text/plain": [
       "     month             CPI       \n",
       " Min.   :  1.00   Min.   : 98.2  \n",
       " 1st Qu.: 42.75   1st Qu.:101.5  \n",
       " Median : 84.50   Median :102.3  \n",
       " Mean   : 84.50   Mean   :102.7  \n",
       " 3rd Qu.:126.25   3rd Qu.:103.6  \n",
       " Max.   :168.00   Max.   :108.7  "
      ]
     },
     "metadata": {},
     "output_type": "display_data"
    },
    {
     "data": {
      "text/plain": [
       "     month             PPI        \n",
       " Min.   :  1.00   Min.   : 91.80  \n",
       " 1st Qu.: 42.75   1st Qu.: 97.92  \n",
       " Median : 84.50   Median :102.46  \n",
       " Mean   : 84.50   Mean   :101.46  \n",
       " 3rd Qu.:126.25   3rd Qu.:105.22  \n",
       " Max.   :168.00   Max.   :110.10  "
      ]
     },
     "metadata": {},
     "output_type": "display_data"
    },
    {
     "data": {
      "text/plain": [
       "     month            CPI       \n",
       " Min.   :169.0   Min.   :100.8  \n",
       " 1st Qu.:176.2   1st Qu.:101.5  \n",
       " Median :183.5   Median :101.8  \n",
       " Mean   :183.5   Mean   :101.9  \n",
       " 3rd Qu.:190.8   3rd Qu.:102.3  \n",
       " Max.   :198.0   Max.   :102.9  "
      ]
     },
     "metadata": {},
     "output_type": "display_data"
    },
    {
     "data": {
      "text/plain": [
       "     month            PPI       \n",
       " Min.   :169.0   Min.   :100.0  \n",
       " 1st Qu.:176.2   1st Qu.:102.8  \n",
       " Median :183.5   Median :104.2  \n",
       " Mean   :183.5   Mean   :104.0  \n",
       " 3rd Qu.:190.8   3rd Qu.:105.7  \n",
       " Max.   :198.0   Max.   :107.8  "
      ]
     },
     "metadata": {},
     "output_type": "display_data"
    }
   ],
   "source": [
    "set.seed(666)\n",
    "data <- load(url(\"https://github.com/zhentaoshi/Econ5821/raw/main/data_example/dataset_inf.Rdata\"))\n",
    "oosdata <- load(url(\"https://github.com/zhentaoshi/Econ5821/raw/main/data_example/data_oos.Rdata\"))\n",
    "summary(cpi)\n",
    "summary(ppi)\n",
    "summary(real.cpi)\n",
    "summary(real.ppi)"
   ]
  },
  {
   "attachments": {},
   "cell_type": "markdown",
   "metadata": {},
   "source": [
    "Then, we join the features, cpi and ppi together using \\`month\\`. "
   ]
  },
  {
   "cell_type": "code",
   "execution_count": 2,
   "metadata": {
    "vscode": {
     "languageId": "r"
    }
   },
   "outputs": [],
   "source": [
    "data <- merge(X, cpi, by=\"month\")\n",
    "data <- merge(data, ppi, by=\"month\")\n",
    "\n",
    "oosdata <- merge(real.X, real.cpi, by=\"month\")\n",
    "oosdata <- merge(oosdata, real.ppi, by=\"month\")"
   ]
  },
  {
   "attachments": {},
   "cell_type": "markdown",
   "metadata": {},
   "source": [
    "We will use r square as our criteria.\n",
    "\n",
    "We first try XGBoost.\n",
    "\n",
    "As XGBoost using specific data format, we must transform our data to DMatrix."
   ]
  },
  {
   "cell_type": "code",
   "execution_count": 3,
   "metadata": {
    "vscode": {
     "languageId": "r"
    }
   },
   "outputs": [
    {
     "name": "stderr",
     "output_type": "stream",
     "text": [
      "Warning message:\n",
      "\"package 'xgboost' was built under R version 4.2.3\"\n"
     ]
    }
   ],
   "source": [
    "library(xgboost)\n",
    "library(Matrix)\n",
    "\n",
    "train_data = data\n",
    "test_data = oosdata\n",
    "trainX = data.matrix(train_data[,c(2:152,154)])\n",
    "trainX = Matrix(trainX,sparse=T)\n",
    "trainY = train_data[,153]\n",
    "data = list(x = trainX, y = trainY )\n",
    "dtrain = xgb.DMatrix(data = data$x, label = data$y)\n",
    "\n",
    "testX = data.matrix(test_data[,c(2:152,154)])\n",
    "testX = Matrix(testX,sparse=T)\n",
    "testY = test_data[,153]\n",
    "data = list(x = testX, y = testY )\n",
    "dtest = xgb.DMatrix(data = data$x, label = data$y)"
   ]
  },
  {
   "attachments": {},
   "cell_type": "markdown",
   "metadata": {},
   "source": [
    "After preparing the training data and testing data, we start to train the XGBoost model， we tried different combinations of hyper-parameters. Lastly, we can get the best model below."
   ]
  },
  {
   "cell_type": "code",
   "execution_count": 4,
   "metadata": {
    "vscode": {
     "languageId": "r"
    }
   },
   "outputs": [
    {
     "name": "stdout",
     "output_type": "stream",
     "text": [
      "[1]\ttrain-rmse:92.061983 \n",
      "[2]\ttrain-rmse:82.914972 \n",
      "[3]\ttrain-rmse:74.677771 \n",
      "[4]\ttrain-rmse:67.259995 \n",
      "[5]\ttrain-rmse:60.580245 \n",
      "[6]\ttrain-rmse:54.565229 \n",
      "[7]\ttrain-rmse:49.148945 \n",
      "[8]\ttrain-rmse:44.271963 \n",
      "[9]\ttrain-rmse:39.880766 \n",
      "[10]\ttrain-rmse:35.927167 \n",
      "[11]\ttrain-rmse:32.367789 \n",
      "[12]\ttrain-rmse:29.163569 \n",
      "[13]\ttrain-rmse:26.279350 \n",
      "[14]\ttrain-rmse:23.683477 \n",
      "[15]\ttrain-rmse:21.347461 \n",
      "[16]\ttrain-rmse:19.245668 \n",
      "[17]\ttrain-rmse:17.353170 \n",
      "[18]\ttrain-rmse:15.648035 \n",
      "[19]\ttrain-rmse:14.111950 \n",
      "[20]\ttrain-rmse:12.727826 \n",
      "[21]\ttrain-rmse:11.481129 \n",
      "[22]\ttrain-rmse:10.356435 \n",
      "[23]\ttrain-rmse:9.342795 \n",
      "[24]\ttrain-rmse:8.429963 \n",
      "[25]\ttrain-rmse:7.606032 \n",
      "[26]\ttrain-rmse:6.863698 \n",
      "[27]\ttrain-rmse:6.194104 \n",
      "[28]\ttrain-rmse:5.591272 \n",
      "[29]\ttrain-rmse:5.046713 \n",
      "[30]\ttrain-rmse:4.555711 \n",
      "[31]\ttrain-rmse:4.113265 \n",
      "[32]\ttrain-rmse:3.713992 \n",
      "[33]\ttrain-rmse:3.354419 \n",
      "[34]\ttrain-rmse:3.029902 \n",
      "[35]\ttrain-rmse:2.737759 \n",
      "[36]\ttrain-rmse:2.473634 \n",
      "[37]\ttrain-rmse:2.235456 \n",
      "[38]\ttrain-rmse:2.021250 \n",
      "[39]\ttrain-rmse:1.827191 \n",
      "[40]\ttrain-rmse:1.652396 \n",
      "[41]\ttrain-rmse:1.494500 \n",
      "[42]\ttrain-rmse:1.352034 \n",
      "[43]\ttrain-rmse:1.223484 \n",
      "[44]\ttrain-rmse:1.107855 \n",
      "[45]\ttrain-rmse:1.003006 \n",
      "[46]\ttrain-rmse:0.908561 \n",
      "[47]\ttrain-rmse:0.822989 \n",
      "[48]\ttrain-rmse:0.745681 \n",
      "[49]\ttrain-rmse:0.675932 \n",
      "[50]\ttrain-rmse:0.612863 \n",
      "[51]\ttrain-rmse:0.556050 \n",
      "[52]\ttrain-rmse:0.504624 \n",
      "[53]\ttrain-rmse:0.458431 \n",
      "[54]\ttrain-rmse:0.416305 \n",
      "[55]\ttrain-rmse:0.378209 \n",
      "[56]\ttrain-rmse:0.343802 \n",
      "[57]\ttrain-rmse:0.312697 \n",
      "[58]\ttrain-rmse:0.284505 \n",
      "[59]\ttrain-rmse:0.259092 \n",
      "[60]\ttrain-rmse:0.236039 \n",
      "[61]\ttrain-rmse:0.215173 \n",
      "[62]\ttrain-rmse:0.196291 \n",
      "[63]\ttrain-rmse:0.179220 \n",
      "[64]\ttrain-rmse:0.163847 \n",
      "[65]\ttrain-rmse:0.149920 \n",
      "[66]\ttrain-rmse:0.137341 \n",
      "[67]\ttrain-rmse:0.126010 \n",
      "[68]\ttrain-rmse:0.115769 \n",
      "[69]\ttrain-rmse:0.106515 \n",
      "[70]\ttrain-rmse:0.098223 \n",
      "[71]\ttrain-rmse:0.090687 \n",
      "[72]\ttrain-rmse:0.083878 \n",
      "[73]\ttrain-rmse:0.077590 \n",
      "[74]\ttrain-rmse:0.072022 \n",
      "[75]\ttrain-rmse:0.066888 \n",
      "[76]\ttrain-rmse:0.062350 \n",
      "[77]\ttrain-rmse:0.058259 \n",
      "[78]\ttrain-rmse:0.054515 \n",
      "[79]\ttrain-rmse:0.051164 \n",
      "[80]\ttrain-rmse:0.048048 \n",
      "[81]\ttrain-rmse:0.045327 \n",
      "[82]\ttrain-rmse:0.042851 \n",
      "[83]\ttrain-rmse:0.040595 \n",
      "[84]\ttrain-rmse:0.038447 \n",
      "[85]\ttrain-rmse:0.036572 \n",
      "[86]\ttrain-rmse:0.034744 \n",
      "[87]\ttrain-rmse:0.033146 \n",
      "[88]\ttrain-rmse:0.031820 \n",
      "[89]\ttrain-rmse:0.030403 \n",
      "[90]\ttrain-rmse:0.029094 \n",
      "[91]\ttrain-rmse:0.027965 \n",
      "[92]\ttrain-rmse:0.026666 \n",
      "[93]\ttrain-rmse:0.025757 \n",
      "[94]\ttrain-rmse:0.024843 \n",
      "[95]\ttrain-rmse:0.023883 \n",
      "[96]\ttrain-rmse:0.022916 \n",
      "[97]\ttrain-rmse:0.022072 \n",
      "[98]\ttrain-rmse:0.021349 \n",
      "[99]\ttrain-rmse:0.020624 \n",
      "[100]\ttrain-rmse:0.019982 \n",
      "[101]\ttrain-rmse:0.019356 \n",
      "[102]\ttrain-rmse:0.018830 \n",
      "[103]\ttrain-rmse:0.018302 \n",
      "[104]\ttrain-rmse:0.017650 \n",
      "[105]\ttrain-rmse:0.017070 \n",
      "[106]\ttrain-rmse:0.016643 \n",
      "[107]\ttrain-rmse:0.016102 \n",
      "[108]\ttrain-rmse:0.015680 \n",
      "[109]\ttrain-rmse:0.015178 \n",
      "[110]\ttrain-rmse:0.014785 \n",
      "[111]\ttrain-rmse:0.014492 \n",
      "[112]\ttrain-rmse:0.014226 \n",
      "[113]\ttrain-rmse:0.013829 \n",
      "[114]\ttrain-rmse:0.013504 \n",
      "[115]\ttrain-rmse:0.013135 \n",
      "[116]\ttrain-rmse:0.012787 \n",
      "[117]\ttrain-rmse:0.012485 \n",
      "[118]\ttrain-rmse:0.012251 \n",
      "[119]\ttrain-rmse:0.011993 \n",
      "[120]\ttrain-rmse:0.011700 \n",
      "[121]\ttrain-rmse:0.011489 \n",
      "[122]\ttrain-rmse:0.011255 \n",
      "[123]\ttrain-rmse:0.011052 \n",
      "[124]\ttrain-rmse:0.010742 \n",
      "[125]\ttrain-rmse:0.010560 \n",
      "[126]\ttrain-rmse:0.010367 \n",
      "[127]\ttrain-rmse:0.010027 \n",
      "[128]\ttrain-rmse:0.009812 \n",
      "[129]\ttrain-rmse:0.009691 \n",
      "[130]\ttrain-rmse:0.009391 \n",
      "[131]\ttrain-rmse:0.009172 \n",
      "[132]\ttrain-rmse:0.009007 \n",
      "[133]\ttrain-rmse:0.008662 \n",
      "[134]\ttrain-rmse:0.008290 \n",
      "[135]\ttrain-rmse:0.008077 \n",
      "[136]\ttrain-rmse:0.007811 \n",
      "[137]\ttrain-rmse:0.007659 \n",
      "[138]\ttrain-rmse:0.007464 \n",
      "[139]\ttrain-rmse:0.007284 \n",
      "[140]\ttrain-rmse:0.007146 \n",
      "[141]\ttrain-rmse:0.007009 \n",
      "[142]\ttrain-rmse:0.006868 \n",
      "[143]\ttrain-rmse:0.006641 \n",
      "[144]\ttrain-rmse:0.006489 \n",
      "[145]\ttrain-rmse:0.006271 \n",
      "[146]\ttrain-rmse:0.006021 \n",
      "[147]\ttrain-rmse:0.005895 \n",
      "[148]\ttrain-rmse:0.005774 \n",
      "[149]\ttrain-rmse:0.005679 \n",
      "[150]\ttrain-rmse:0.005553 \n",
      "[151]\ttrain-rmse:0.005419 \n",
      "[152]\ttrain-rmse:0.005304 \n",
      "[153]\ttrain-rmse:0.005174 \n",
      "[154]\ttrain-rmse:0.005022 \n",
      "[155]\ttrain-rmse:0.004911 \n",
      "[156]\ttrain-rmse:0.004820 \n",
      "[157]\ttrain-rmse:0.004716 \n",
      "[158]\ttrain-rmse:0.004584 \n",
      "[159]\ttrain-rmse:0.004450 \n",
      "[160]\ttrain-rmse:0.004301 \n",
      "[161]\ttrain-rmse:0.004185 \n",
      "[162]\ttrain-rmse:0.004108 \n",
      "[163]\ttrain-rmse:0.004008 \n",
      "[164]\ttrain-rmse:0.003900 \n",
      "[165]\ttrain-rmse:0.003828 \n",
      "[166]\ttrain-rmse:0.003765 \n",
      "[167]\ttrain-rmse:0.003692 \n",
      "[168]\ttrain-rmse:0.003623 \n",
      "[169]\ttrain-rmse:0.003519 \n",
      "[170]\ttrain-rmse:0.003422 \n",
      "[171]\ttrain-rmse:0.003360 \n",
      "[172]\ttrain-rmse:0.003291 \n",
      "[173]\ttrain-rmse:0.003207 \n",
      "[174]\ttrain-rmse:0.003101 \n",
      "[175]\ttrain-rmse:0.003058 \n",
      "[176]\ttrain-rmse:0.002968 \n",
      "[177]\ttrain-rmse:0.002900 \n",
      "[178]\ttrain-rmse:0.002853 \n",
      "[179]\ttrain-rmse:0.002793 \n",
      "[180]\ttrain-rmse:0.002707 \n",
      "[181]\ttrain-rmse:0.002612 \n",
      "[182]\ttrain-rmse:0.002552 \n",
      "[183]\ttrain-rmse:0.002510 \n",
      "[184]\ttrain-rmse:0.002456 \n",
      "[185]\ttrain-rmse:0.002410 \n",
      "[186]\ttrain-rmse:0.002362 \n",
      "[187]\ttrain-rmse:0.002314 \n",
      "[188]\ttrain-rmse:0.002232 \n",
      "[189]\ttrain-rmse:0.002181 \n",
      "[190]\ttrain-rmse:0.002138 \n",
      "[191]\ttrain-rmse:0.002096 \n",
      "[192]\ttrain-rmse:0.002047 \n",
      "[193]\ttrain-rmse:0.002008 \n",
      "[194]\ttrain-rmse:0.001928 \n",
      "[195]\ttrain-rmse:0.001901 \n",
      "[196]\ttrain-rmse:0.001868 \n",
      "[197]\ttrain-rmse:0.001794 \n",
      "[198]\ttrain-rmse:0.001733 \n",
      "[199]\ttrain-rmse:0.001705 \n",
      "[200]\ttrain-rmse:0.001673 \n",
      "[201]\ttrain-rmse:0.001647 \n",
      "[202]\ttrain-rmse:0.001613 \n",
      "[203]\ttrain-rmse:0.001581 \n",
      "[204]\ttrain-rmse:0.001558 \n",
      "[205]\ttrain-rmse:0.001532 \n",
      "[206]\ttrain-rmse:0.001505 \n",
      "[207]\ttrain-rmse:0.001459 \n",
      "[208]\ttrain-rmse:0.001426 \n",
      "[209]\ttrain-rmse:0.001383 \n",
      "[210]\ttrain-rmse:0.001364 \n",
      "[211]\ttrain-rmse:0.001341 \n",
      "[212]\ttrain-rmse:0.001320 \n",
      "[213]\ttrain-rmse:0.001282 \n",
      "[214]\ttrain-rmse:0.001241 \n",
      "[215]\ttrain-rmse:0.001214 \n",
      "[216]\ttrain-rmse:0.001184 \n",
      "[217]\ttrain-rmse:0.001155 \n",
      "[218]\ttrain-rmse:0.001126 \n",
      "[219]\ttrain-rmse:0.001108 \n",
      "[220]\ttrain-rmse:0.001091 \n",
      "[221]\ttrain-rmse:0.001075 \n",
      "[222]\ttrain-rmse:0.001052 \n",
      "[223]\ttrain-rmse:0.001033 \n",
      "[224]\ttrain-rmse:0.001014 \n",
      "[225]\ttrain-rmse:0.000996 \n",
      "[226]\ttrain-rmse:0.000977 \n",
      "[227]\ttrain-rmse:0.000957 \n",
      "[228]\ttrain-rmse:0.000923 \n",
      "[229]\ttrain-rmse:0.000903 \n",
      "[230]\ttrain-rmse:0.000877 \n",
      "[231]\ttrain-rmse:0.000853 \n",
      "[232]\ttrain-rmse:0.000835 \n",
      "[233]\ttrain-rmse:0.000796 \n",
      "[234]\ttrain-rmse:0.000784 \n",
      "[235]\ttrain-rmse:0.000771 \n",
      "[236]\ttrain-rmse:0.000750 \n",
      "[237]\ttrain-rmse:0.000735 \n",
      "[238]\ttrain-rmse:0.000719 \n",
      "[239]\ttrain-rmse:0.000709 \n",
      "[240]\ttrain-rmse:0.000694 \n",
      "[241]\ttrain-rmse:0.000679 \n",
      "[242]\ttrain-rmse:0.000661 \n",
      "[243]\ttrain-rmse:0.000651 \n",
      "[244]\ttrain-rmse:0.000634 \n",
      "[245]\ttrain-rmse:0.000623 \n",
      "[246]\ttrain-rmse:0.000609 \n",
      "[247]\ttrain-rmse:0.000597 \n",
      "[248]\ttrain-rmse:0.000587 \n",
      "[249]\ttrain-rmse:0.000578 \n",
      "[250]\ttrain-rmse:0.000568 \n",
      "[251]\ttrain-rmse:0.000551 \n",
      "[252]\ttrain-rmse:0.000532 \n",
      "[253]\ttrain-rmse:0.000516 \n"
     ]
    },
    {
     "data": {
      "text/html": [
       "0.989023049553713"
      ],
      "text/latex": [
       "0.989023049553713"
      ],
      "text/markdown": [
       "0.989023049553713"
      ],
      "text/plain": [
       "[1] 0.989023"
      ]
     },
     "metadata": {},
     "output_type": "display_data"
    },
    {
     "data": {
      "text/html": [
       "0.999999935713875"
      ],
      "text/latex": [
       "0.999999935713875"
      ],
      "text/markdown": [
       "0.999999935713875"
      ],
      "text/plain": [
       "[1] 0.9999999"
      ]
     },
     "metadata": {},
     "output_type": "display_data"
    }
   ],
   "source": [
    "xgb <- xgboost(data = dtrain,max_depth=4,eta=0.1, nround=253)\n",
    "#test data (oos r2)\n",
    "pre_xgb = predict(xgb,newdata = dtest)\n",
    "rss = var(testY - pre_xgb)\n",
    "tss = var(testY)\n",
    "oos_r2 = 1-rss/tss\n",
    "oos_r2\n",
    "#train data (is r2)\n",
    "pre_xgb = predict(xgb,newdata = dtrain)\n",
    "rss = var(trainY - pre_xgb)\n",
    "tss = var(trainY)\n",
    "is_r2 = 1-rss/tss\n",
    "is_r2"
   ]
  },
  {
   "attachments": {},
   "cell_type": "markdown",
   "metadata": {},
   "source": [
    "Then we use random forest."
   ]
  },
  {
   "cell_type": "code",
   "execution_count": 5,
   "metadata": {
    "vscode": {
     "languageId": "r"
    }
   },
   "outputs": [
    {
     "name": "stderr",
     "output_type": "stream",
     "text": [
      "randomForest 4.7-1.1\n",
      "\n",
      "Type rfNews() to see new features/changes/bug fixes.\n",
      "\n"
     ]
    },
    {
     "data": {
      "text/html": [
       "0.830760533349353"
      ],
      "text/latex": [
       "0.830760533349353"
      ],
      "text/markdown": [
       "0.830760533349353"
      ],
      "text/plain": [
       "[1] 0.8307605"
      ]
     },
     "metadata": {},
     "output_type": "display_data"
    },
    {
     "data": {
      "text/html": [
       "0.9969601338644"
      ],
      "text/latex": [
       "0.9969601338644"
      ],
      "text/markdown": [
       "0.9969601338644"
      ],
      "text/plain": [
       "[1] 0.9969601"
      ]
     },
     "metadata": {},
     "output_type": "display_data"
    }
   ],
   "source": [
    "library(randomForest)\n",
    "\n",
    "rf = randomForest(CPI ~ . ,ntree=100, data = train_data)\n",
    "#test data (oos r2)\n",
    "pre_rf = predict(rf,newdata = test_data)\n",
    "rss = var(testY - pre_rf)\n",
    "tss = var(testY)\n",
    "oos_r2 = 1-rss/tss\n",
    "oos_r2\n",
    "#train data (is r2)\n",
    "pre_rf = predict(rf,newdata = train_data)\n",
    "rss = var(trainY - pre_rf)\n",
    "tss = var(trainY)\n",
    "is_r2 = 1-rss/tss\n",
    "is_r2"
   ]
  },
  {
   "attachments": {},
   "cell_type": "markdown",
   "metadata": {},
   "source": [
    "kNN"
   ]
  },
  {
   "cell_type": "code",
   "execution_count": 6,
   "metadata": {
    "vscode": {
     "languageId": "r"
    }
   },
   "outputs": [
    {
     "name": "stderr",
     "output_type": "stream",
     "text": [
      "Warning message:\n",
      "\"package 'caret' was built under R version 4.2.3\"\n",
      "Loading required package: ggplot2\n",
      "\n",
      "\n",
      "Attaching package: 'ggplot2'\n",
      "\n",
      "\n",
      "The following object is masked from 'package:randomForest':\n",
      "\n",
      "    margin\n",
      "\n",
      "\n",
      "Loading required package: lattice\n",
      "\n"
     ]
    },
    {
     "data": {
      "text/html": [
       "-0.865544300575642"
      ],
      "text/latex": [
       "-0.865544300575642"
      ],
      "text/markdown": [
       "-0.865544300575642"
      ],
      "text/plain": [
       "[1] -0.8655443"
      ]
     },
     "metadata": {},
     "output_type": "display_data"
    },
    {
     "data": {
      "text/html": [
       "0.804266621263287"
      ],
      "text/latex": [
       "0.804266621263287"
      ],
      "text/markdown": [
       "0.804266621263287"
      ],
      "text/plain": [
       "[1] 0.8042666"
      ]
     },
     "metadata": {},
     "output_type": "display_data"
    }
   ],
   "source": [
    "library(caret)\n",
    "control = trainControl(method = 'cv',number = 10)\n",
    "kNN = train(CPI~.,train_data,\n",
    "               method = 'knn',\n",
    "               trControl = control,\n",
    "               tuneLength = 5)\n",
    "#test data (oos r2)\n",
    "pre_kNN = predict(kNN,newdata = test_data)\n",
    "rss = var(testY - pre_kNN)\n",
    "tss = var(testY)\n",
    "oos_r2 = 1-rss/tss\n",
    "oos_r2\n",
    "#train data (is r2)\n",
    "pre_kNN = predict(kNN,newdata = train_data)\n",
    "rss = var(trainY - pre_kNN)\n",
    "tss = var(trainY)\n",
    "is_r2 = 1-rss/tss\n",
    "is_r2"
   ]
  },
  {
   "attachments": {},
   "cell_type": "markdown",
   "metadata": {},
   "source": [
    "decision tree"
   ]
  },
  {
   "cell_type": "code",
   "execution_count": 7,
   "metadata": {
    "vscode": {
     "languageId": "r"
    }
   },
   "outputs": [
    {
     "data": {
      "text/html": [
       "0.736367197237284"
      ],
      "text/latex": [
       "0.736367197237284"
      ],
      "text/markdown": [
       "0.736367197237284"
      ],
      "text/plain": [
       "[1] 0.7363672"
      ]
     },
     "metadata": {},
     "output_type": "display_data"
    },
    {
     "data": {
      "text/html": [
       "0.952506442682543"
      ],
      "text/latex": [
       "0.952506442682543"
      ],
      "text/markdown": [
       "0.952506442682543"
      ],
      "text/plain": [
       "[1] 0.9525064"
      ]
     },
     "metadata": {},
     "output_type": "display_data"
    }
   ],
   "source": [
    "library(rpart)\n",
    "DT = rpart(CPI~., train_data)\n",
    "#test data (oos r2)\n",
    "pre_DT = predict(DT, newdata = test_data)\n",
    "rss = var(testY - pre_DT)\n",
    "tss = var(testY)\n",
    "oos_r2 = 1-rss/tss\n",
    "oos_r2\n",
    "#train data (is r2)\n",
    "pre_DT = predict(DT, newdata = train_data)\n",
    "rss = var(trainY - pre_DT)\n",
    "tss = var(trainY)\n",
    "is_r2 = 1-rss/tss\n",
    "is_r2"
   ]
  },
  {
   "attachments": {},
   "cell_type": "markdown",
   "metadata": {},
   "source": [
    "lasso"
   ]
  },
  {
   "cell_type": "code",
   "execution_count": 8,
   "metadata": {
    "vscode": {
     "languageId": "r"
    }
   },
   "outputs": [
    {
     "name": "stderr",
     "output_type": "stream",
     "text": [
      "Loaded glmnet 4.1-6\n",
      "\n"
     ]
    },
    {
     "data": {
      "text/html": [
       "<table class=\"dataframe\">\n",
       "<caption>A matrix: 1 × 1 of type dbl</caption>\n",
       "<thead>\n",
       "\t<tr><th></th><th scope=col>s0</th></tr>\n",
       "</thead>\n",
       "<tbody>\n",
       "\t<tr><th scope=row>s0</th><td>0.9991502</td></tr>\n",
       "</tbody>\n",
       "</table>\n"
      ],
      "text/latex": [
       "A matrix: 1 × 1 of type dbl\n",
       "\\begin{tabular}{r|l}\n",
       "  & s0\\\\\n",
       "\\hline\n",
       "\ts0 & 0.9991502\\\\\n",
       "\\end{tabular}\n"
      ],
      "text/markdown": [
       "\n",
       "A matrix: 1 × 1 of type dbl\n",
       "\n",
       "| <!--/--> | s0 |\n",
       "|---|---|\n",
       "| s0 | 0.9991502 |\n",
       "\n"
      ],
      "text/plain": [
       "   s0       \n",
       "s0 0.9991502"
      ]
     },
     "metadata": {},
     "output_type": "display_data"
    },
    {
     "data": {
      "text/html": [
       "<table class=\"dataframe\">\n",
       "<caption>A matrix: 1 × 1 of type dbl</caption>\n",
       "<thead>\n",
       "\t<tr><th></th><th scope=col>s0</th></tr>\n",
       "</thead>\n",
       "<tbody>\n",
       "\t<tr><th scope=row>s0</th><td>0.9991502</td></tr>\n",
       "</tbody>\n",
       "</table>\n"
      ],
      "text/latex": [
       "A matrix: 1 × 1 of type dbl\n",
       "\\begin{tabular}{r|l}\n",
       "  & s0\\\\\n",
       "\\hline\n",
       "\ts0 & 0.9991502\\\\\n",
       "\\end{tabular}\n"
      ],
      "text/markdown": [
       "\n",
       "A matrix: 1 × 1 of type dbl\n",
       "\n",
       "| <!--/--> | s0 |\n",
       "|---|---|\n",
       "| s0 | 0.9991502 |\n",
       "\n"
      ],
      "text/plain": [
       "   s0       \n",
       "s0 0.9991502"
      ]
     },
     "metadata": {},
     "output_type": "display_data"
    }
   ],
   "source": [
    "library(glmnet)\n",
    "x = trainX\n",
    "y = trainY\n",
    "cv_lasso = cv.glmnet(x, y)\n",
    "lasso_result = glmnet(x, y, lambda = cv_lasso$lambda.min)\n",
    "#test data (oos r2)\n",
    "pre_lasso = predict(lasso_result, newx = testX)\n",
    "rss = var(testY - pre_lasso)\n",
    "tss = var(testY)\n",
    "oos_r2 = 1-rss/tss\n",
    "oos_r2\n",
    "#train data (is r2)\n",
    "pre_lasso = predict(lasso_result, newx = trainX)\n",
    "rss = var(trainY - pre_lasso)\n",
    "tss = var(trainY)\n",
    "is_r2 = 1-rss/tss\n",
    "is_r2"
   ]
  },
  {
   "attachments": {},
   "cell_type": "markdown",
   "metadata": {},
   "source": [
    "neural network"
   ]
  },
  {
   "cell_type": "code",
   "execution_count": 9,
   "metadata": {
    "vscode": {
     "languageId": "r"
    }
   },
   "outputs": [
    {
     "name": "stderr",
     "output_type": "stream",
     "text": [
      "Warning message:\n",
      "\"package 'neuralnet' was built under R version 4.2.3\"\n"
     ]
    },
    {
     "data": {
      "text/html": [
       "<table class=\"dataframe\">\n",
       "<caption>A matrix: 1 × 1 of type dbl</caption>\n",
       "<tbody>\n",
       "\t<tr><td>0</td></tr>\n",
       "</tbody>\n",
       "</table>\n"
      ],
      "text/latex": [
       "A matrix: 1 × 1 of type dbl\n",
       "\\begin{tabular}{l}\n",
       "\t 0\\\\\n",
       "\\end{tabular}\n"
      ],
      "text/markdown": [
       "\n",
       "A matrix: 1 × 1 of type dbl\n",
       "\n",
       "| 0 |\n",
       "\n"
      ],
      "text/plain": [
       "     [,1]\n",
       "[1,] 0   "
      ]
     },
     "metadata": {},
     "output_type": "display_data"
    },
    {
     "data": {
      "text/html": [
       "<table class=\"dataframe\">\n",
       "<caption>A matrix: 1 × 1 of type dbl</caption>\n",
       "<tbody>\n",
       "\t<tr><td>0</td></tr>\n",
       "</tbody>\n",
       "</table>\n"
      ],
      "text/latex": [
       "A matrix: 1 × 1 of type dbl\n",
       "\\begin{tabular}{l}\n",
       "\t 0\\\\\n",
       "\\end{tabular}\n"
      ],
      "text/markdown": [
       "\n",
       "A matrix: 1 × 1 of type dbl\n",
       "\n",
       "| 0 |\n",
       "\n"
      ],
      "text/plain": [
       "     [,1]\n",
       "[1,] 0   "
      ]
     },
     "metadata": {},
     "output_type": "display_data"
    }
   ],
   "source": [
    "library(neuralnet)\n",
    "nn = neuralnet(CPI ~ ., train_data,hidden = 5)\n",
    "#test data (oos r2)\n",
    "pre_nn = predict(nn, newdata = test_data)\n",
    "rss = var(testY - pre_nn)\n",
    "tss = var(testY)\n",
    "oos_r2 = 1-rss/tss\n",
    "oos_r2\n",
    "#train data (is r2)\n",
    "pre_nn = predict(nn, newdata = train_data)\n",
    "rss = var(trainY - pre_nn)\n",
    "tss = var(trainY)\n",
    "is_r2 = 1-rss/tss\n",
    "is_r2"
   ]
  },
  {
   "attachments": {},
   "cell_type": "markdown",
   "metadata": {},
   "source": [
    "By comparing the results of CPI above, we can see that the xgboost has the best r2 in the train data set, but lasso has the best r2 in the test data set."
   ]
  },
  {
   "attachments": {},
   "cell_type": "markdown",
   "metadata": {},
   "source": [
    "As for ppi, we first use XGBoost."
   ]
  },
  {
   "cell_type": "code",
   "execution_count": 10,
   "metadata": {
    "vscode": {
     "languageId": "r"
    }
   },
   "outputs": [],
   "source": [
    "PPItrainX = data.matrix(train_data[,c(2:153)])\n",
    "PPItrainX = Matrix(PPItrainX,sparse=T)\n",
    "PPItrainY = train_data[,154]\n",
    "data = list(x = PPItrainX, y = PPItrainY )\n",
    "PPIdtrain = xgb.DMatrix(data = data$x, label = data$y)\n",
    "\n",
    "PPItestX = data.matrix(test_data[,c(2:153)])\n",
    "PPItestX = Matrix(PPItestX,sparse=T)\n",
    "PPItestY = test_data[,154]\n",
    "data = list(x = PPItestX, y = PPItestY )\n",
    "PPIdtest = xgb.DMatrix(data = data$x, label = data$y)"
   ]
  },
  {
   "cell_type": "code",
   "execution_count": 11,
   "metadata": {
    "vscode": {
     "languageId": "r"
    }
   },
   "outputs": [
    {
     "name": "stdout",
     "output_type": "stream",
     "text": [
      "[1]\ttrain-rmse:70.993197 \n",
      "[2]\ttrain-rmse:49.922646 \n",
      "[3]\ttrain-rmse:35.150519 \n",
      "[4]\ttrain-rmse:24.770549 \n",
      "[5]\ttrain-rmse:17.472204 \n",
      "[6]\ttrain-rmse:12.334498 \n",
      "[7]\ttrain-rmse:8.718835 \n",
      "[8]\ttrain-rmse:6.173712 \n",
      "[9]\ttrain-rmse:4.382402 \n",
      "[10]\ttrain-rmse:3.116947 \n",
      "[11]\ttrain-rmse:2.227998 \n",
      "[12]\ttrain-rmse:1.602847 \n",
      "[13]\ttrain-rmse:1.163920 \n",
      "[14]\ttrain-rmse:0.854254 \n",
      "[15]\ttrain-rmse:0.632544 \n",
      "[16]\ttrain-rmse:0.473067 \n",
      "[17]\ttrain-rmse:0.357687 \n",
      "[18]\ttrain-rmse:0.272066 \n",
      "[19]\ttrain-rmse:0.209777 \n",
      "[20]\ttrain-rmse:0.162117 \n",
      "[21]\ttrain-rmse:0.126232 \n",
      "[22]\ttrain-rmse:0.098904 \n",
      "[23]\ttrain-rmse:0.078215 \n",
      "[24]\ttrain-rmse:0.062221 \n",
      "[25]\ttrain-rmse:0.049936 \n",
      "[26]\ttrain-rmse:0.040409 \n",
      "[27]\ttrain-rmse:0.032898 \n",
      "[28]\ttrain-rmse:0.026999 \n",
      "[29]\ttrain-rmse:0.022311 \n",
      "[30]\ttrain-rmse:0.018596 \n",
      "[31]\ttrain-rmse:0.015604 \n",
      "[32]\ttrain-rmse:0.013116 \n",
      "[33]\ttrain-rmse:0.011061 \n",
      "[34]\ttrain-rmse:0.009347 \n",
      "[35]\ttrain-rmse:0.007862 \n",
      "[36]\ttrain-rmse:0.006659 \n",
      "[37]\ttrain-rmse:0.005616 \n",
      "[38]\ttrain-rmse:0.004766 \n",
      "[39]\ttrain-rmse:0.004029 \n",
      "[40]\ttrain-rmse:0.003420 \n",
      "[41]\ttrain-rmse:0.002902 \n",
      "[42]\ttrain-rmse:0.002467 \n",
      "[43]\ttrain-rmse:0.002102 \n",
      "[44]\ttrain-rmse:0.001785 \n",
      "[45]\ttrain-rmse:0.001522 \n",
      "[46]\ttrain-rmse:0.001307 \n",
      "[47]\ttrain-rmse:0.001116 \n",
      "[48]\ttrain-rmse:0.000972 \n",
      "[49]\ttrain-rmse:0.000853 \n",
      "[50]\ttrain-rmse:0.000755 \n",
      "[51]\ttrain-rmse:0.000676 \n",
      "[52]\ttrain-rmse:0.000598 \n",
      "[53]\ttrain-rmse:0.000548 \n",
      "[54]\ttrain-rmse:0.000506 \n",
      "[55]\ttrain-rmse:0.000471 \n",
      "[56]\ttrain-rmse:0.000431 \n",
      "[57]\ttrain-rmse:0.000414 \n",
      "[58]\ttrain-rmse:0.000401 \n",
      "[59]\ttrain-rmse:0.000383 \n",
      "[60]\ttrain-rmse:0.000372 \n"
     ]
    },
    {
     "data": {
      "text/html": [
       "0.961996841466103"
      ],
      "text/latex": [
       "0.961996841466103"
      ],
      "text/markdown": [
       "0.961996841466103"
      ],
      "text/plain": [
       "[1] 0.9619968"
      ]
     },
     "metadata": {},
     "output_type": "display_data"
    },
    {
     "data": {
      "text/html": [
       "0.999999993054933"
      ],
      "text/latex": [
       "0.999999993054933"
      ],
      "text/markdown": [
       "0.999999993054933"
      ],
      "text/plain": [
       "[1] 1"
      ]
     },
     "metadata": {},
     "output_type": "display_data"
    }
   ],
   "source": [
    "PPIxgb <- xgboost(data = PPIdtrain, max_depth = 12, eta = 0.3,nround=60)\n",
    "#test data (oos r2)\n",
    "pre_PPIxgb = predict(PPIxgb,newdata = PPIdtest)\n",
    "rss = var(PPItestY - pre_PPIxgb)\n",
    "tss = var(PPItestY)\n",
    "oos_r2 = 1-rss/tss\n",
    "oos_r2\n",
    "#train data (is r2)\n",
    "pre_PPIxgb = predict(PPIxgb,newdata = PPIdtrain)\n",
    "rss = var(PPItrainY - pre_PPIxgb)\n",
    "tss = var(PPItrainY)\n",
    "is_r2 = 1-rss/tss\n",
    "is_r2"
   ]
  },
  {
   "attachments": {},
   "cell_type": "markdown",
   "metadata": {},
   "source": [
    "randomForest"
   ]
  },
  {
   "cell_type": "code",
   "execution_count": 12,
   "metadata": {
    "vscode": {
     "languageId": "r"
    }
   },
   "outputs": [
    {
     "data": {
      "text/html": [
       "0.990348103999588"
      ],
      "text/latex": [
       "0.990348103999588"
      ],
      "text/markdown": [
       "0.990348103999588"
      ],
      "text/plain": [
       "[1] 0.9903481"
      ]
     },
     "metadata": {},
     "output_type": "display_data"
    },
    {
     "data": {
      "text/html": [
       "0.999113867418178"
      ],
      "text/latex": [
       "0.999113867418178"
      ],
      "text/markdown": [
       "0.999113867418178"
      ],
      "text/plain": [
       "[1] 0.9991139"
      ]
     },
     "metadata": {},
     "output_type": "display_data"
    }
   ],
   "source": [
    "rf = randomForest(PPI ~ . , data = train_data,ntree = 500)\n",
    "\n",
    "#test data (oos r2)\n",
    "pre_rf = predict(rf,newdata = test_data)\n",
    "rss = var(PPItestY - pre_rf)\n",
    "tss = var(PPItestY)\n",
    "oos_r2 = 1-rss/tss\n",
    "oos_r2\n",
    "#train data (is r2)\n",
    "pre_rf = predict(rf,newdata = train_data)\n",
    "rss = var(PPItrainY - pre_rf)\n",
    "tss = var(PPItrainY)\n",
    "is_r2 = 1-rss/tss\n",
    "is_r2"
   ]
  },
  {
   "attachments": {},
   "cell_type": "markdown",
   "metadata": {},
   "source": [
    "kNN"
   ]
  },
  {
   "cell_type": "code",
   "execution_count": 13,
   "metadata": {
    "vscode": {
     "languageId": "r"
    }
   },
   "outputs": [
    {
     "data": {
      "text/html": [
       "0.463412956789685"
      ],
      "text/latex": [
       "0.463412956789685"
      ],
      "text/markdown": [
       "0.463412956789685"
      ],
      "text/plain": [
       "[1] 0.463413"
      ]
     },
     "metadata": {},
     "output_type": "display_data"
    },
    {
     "data": {
      "text/html": [
       "0.885503995685249"
      ],
      "text/latex": [
       "0.885503995685249"
      ],
      "text/markdown": [
       "0.885503995685249"
      ],
      "text/plain": [
       "[1] 0.885504"
      ]
     },
     "metadata": {},
     "output_type": "display_data"
    }
   ],
   "source": [
    "control = trainControl(method = 'cv',number = 10)\n",
    "kNN = train(PPI~.,train_data,\n",
    "               method = 'knn',\n",
    "               trControl = control,\n",
    "               tuneLength = 5)\n",
    "#test data (oos r2)\n",
    "pre_kNN = predict(kNN,newdata = test_data)\n",
    "rss = var(PPItestY - pre_kNN)\n",
    "tss = var(PPItestY)\n",
    "oos_r2 = 1-rss/tss\n",
    "oos_r2\n",
    "#train data (is r2)\n",
    "pre_kNN = predict(kNN,newdata = train_data)\n",
    "rss = var(PPItrainY - pre_kNN)\n",
    "tss = var(PPItrainY)\n",
    "is_r2 = 1-rss/tss\n",
    "is_r2"
   ]
  },
  {
   "attachments": {},
   "cell_type": "markdown",
   "metadata": {},
   "source": [
    "decision tree"
   ]
  },
  {
   "cell_type": "code",
   "execution_count": 14,
   "metadata": {
    "vscode": {
     "languageId": "r"
    }
   },
   "outputs": [
    {
     "data": {
      "text/html": [
       "0.79364270603973"
      ],
      "text/latex": [
       "0.79364270603973"
      ],
      "text/markdown": [
       "0.79364270603973"
      ],
      "text/plain": [
       "[1] 0.7936427"
      ]
     },
     "metadata": {},
     "output_type": "display_data"
    },
    {
     "data": {
      "text/html": [
       "0.956824464920257"
      ],
      "text/latex": [
       "0.956824464920257"
      ],
      "text/markdown": [
       "0.956824464920257"
      ],
      "text/plain": [
       "[1] 0.9568245"
      ]
     },
     "metadata": {},
     "output_type": "display_data"
    }
   ],
   "source": [
    "DT = rpart(PPI~., train_data)\n",
    "#test data (oos r2)\n",
    "pre_DT = predict(DT, newdata = test_data)\n",
    "rss = var(PPItestY - pre_DT)\n",
    "tss = var(PPItestY)\n",
    "oos_r2 = 1-rss/tss\n",
    "oos_r2\n",
    "#train data (is r2)\n",
    "pre_DT = predict(DT, newdata = train_data)\n",
    "rss = var(PPItrainY - pre_DT)\n",
    "tss = var(PPItrainY)\n",
    "is_r2 = 1-rss/tss\n",
    "is_r2"
   ]
  },
  {
   "attachments": {},
   "cell_type": "markdown",
   "metadata": {},
   "source": [
    "lasso"
   ]
  },
  {
   "cell_type": "code",
   "execution_count": 15,
   "metadata": {
    "vscode": {
     "languageId": "r"
    }
   },
   "outputs": [
    {
     "data": {
      "text/html": [
       "<table class=\"dataframe\">\n",
       "<caption>A matrix: 1 × 1 of type dbl</caption>\n",
       "<thead>\n",
       "\t<tr><th></th><th scope=col>s0</th></tr>\n",
       "</thead>\n",
       "<tbody>\n",
       "\t<tr><th scope=row>s0</th><td>0.9991502</td></tr>\n",
       "</tbody>\n",
       "</table>\n"
      ],
      "text/latex": [
       "A matrix: 1 × 1 of type dbl\n",
       "\\begin{tabular}{r|l}\n",
       "  & s0\\\\\n",
       "\\hline\n",
       "\ts0 & 0.9991502\\\\\n",
       "\\end{tabular}\n"
      ],
      "text/markdown": [
       "\n",
       "A matrix: 1 × 1 of type dbl\n",
       "\n",
       "| <!--/--> | s0 |\n",
       "|---|---|\n",
       "| s0 | 0.9991502 |\n",
       "\n"
      ],
      "text/plain": [
       "   s0       \n",
       "s0 0.9991502"
      ]
     },
     "metadata": {},
     "output_type": "display_data"
    },
    {
     "data": {
      "text/html": [
       "<table class=\"dataframe\">\n",
       "<caption>A matrix: 1 × 1 of type dbl</caption>\n",
       "<thead>\n",
       "\t<tr><th></th><th scope=col>s0</th></tr>\n",
       "</thead>\n",
       "<tbody>\n",
       "\t<tr><th scope=row>s0</th><td>0.9991502</td></tr>\n",
       "</tbody>\n",
       "</table>\n"
      ],
      "text/latex": [
       "A matrix: 1 × 1 of type dbl\n",
       "\\begin{tabular}{r|l}\n",
       "  & s0\\\\\n",
       "\\hline\n",
       "\ts0 & 0.9991502\\\\\n",
       "\\end{tabular}\n"
      ],
      "text/markdown": [
       "\n",
       "A matrix: 1 × 1 of type dbl\n",
       "\n",
       "| <!--/--> | s0 |\n",
       "|---|---|\n",
       "| s0 | 0.9991502 |\n",
       "\n"
      ],
      "text/plain": [
       "   s0       \n",
       "s0 0.9991502"
      ]
     },
     "metadata": {},
     "output_type": "display_data"
    }
   ],
   "source": [
    "x = PPItrainX\n",
    "y = PPItrainY\n",
    "cv_lasso = cv.glmnet(x, y)\n",
    "lasso_result = glmnet(x, y, lambda = cv_lasso$lambda.min)\n",
    "#test data (oos r2)\n",
    "pre_lasso = predict(lasso_result, newx = PPItestX)\n",
    "rss = var(PPItestY - pre_lasso)\n",
    "tss = var(PPItestY)\n",
    "oos_r2 = 1-rss/tss\n",
    "oos_r2\n",
    "#train data (is r2)\n",
    "pre_lasso = predict(lasso_result, newx = PPItrainX)\n",
    "rss = var(PPItrainY - pre_lasso)\n",
    "tss = var(PPItrainY)\n",
    "is_r2 = 1-rss/tss\n",
    "is_r2"
   ]
  },
  {
   "attachments": {},
   "cell_type": "markdown",
   "metadata": {},
   "source": [
    "neural network"
   ]
  },
  {
   "cell_type": "code",
   "execution_count": 16,
   "metadata": {
    "vscode": {
     "languageId": "r"
    }
   },
   "outputs": [
    {
     "data": {
      "text/html": [
       "<table class=\"dataframe\">\n",
       "<caption>A matrix: 1 × 1 of type dbl</caption>\n",
       "<tbody>\n",
       "\t<tr><td>0</td></tr>\n",
       "</tbody>\n",
       "</table>\n"
      ],
      "text/latex": [
       "A matrix: 1 × 1 of type dbl\n",
       "\\begin{tabular}{l}\n",
       "\t 0\\\\\n",
       "\\end{tabular}\n"
      ],
      "text/markdown": [
       "\n",
       "A matrix: 1 × 1 of type dbl\n",
       "\n",
       "| 0 |\n",
       "\n"
      ],
      "text/plain": [
       "     [,1]\n",
       "[1,] 0   "
      ]
     },
     "metadata": {},
     "output_type": "display_data"
    },
    {
     "data": {
      "text/html": [
       "<table class=\"dataframe\">\n",
       "<caption>A matrix: 1 × 1 of type dbl</caption>\n",
       "<tbody>\n",
       "\t<tr><td>0.00793292</td></tr>\n",
       "</tbody>\n",
       "</table>\n"
      ],
      "text/latex": [
       "A matrix: 1 × 1 of type dbl\n",
       "\\begin{tabular}{l}\n",
       "\t 0.00793292\\\\\n",
       "\\end{tabular}\n"
      ],
      "text/markdown": [
       "\n",
       "A matrix: 1 × 1 of type dbl\n",
       "\n",
       "| 0.00793292 |\n",
       "\n"
      ],
      "text/plain": [
       "     [,1]      \n",
       "[1,] 0.00793292"
      ]
     },
     "metadata": {},
     "output_type": "display_data"
    }
   ],
   "source": [
    "nn = neuralnet(PPI ~ ., train_data,hidden = 20)\n",
    "#test data (oos r2)\n",
    "pre_nn = predict(nn, newdata = test_data)\n",
    "rss = var(PPItestY - pre_nn)\n",
    "tss = var(PPItestY)\n",
    "oos_r2 = 1-rss/tss\n",
    "oos_r2\n",
    "#train data (is r2)\n",
    "pre_nn = predict(nn, newdata = train_data)\n",
    "rss = var(PPItrainY - pre_nn)\n",
    "tss = var(PPItrainY)\n",
    "is_r2 = 1-rss/tss\n",
    "is_r2"
   ]
  },
  {
   "attachments": {},
   "cell_type": "markdown",
   "metadata": {},
   "source": [
    "By comparing the results of PPI above, we can see that the xgboost has the best r2 in the train data set, but lasso has the best r2 in the test data set.\n",
    "\n",
    "We can now use lasso to make the prediction of both CPI and PPI."
   ]
  }
 ],
 "metadata": {
  "kernelspec": {
   "display_name": "R",
   "language": "R",
   "name": "ir"
  },
  "language_info": {
   "codemirror_mode": "r",
   "file_extension": ".r",
   "mimetype": "text/x-r-source",
   "name": "R",
   "pygments_lexer": "r",
   "version": "4.2.2"
  },
  "orig_nbformat": 4
 },
 "nbformat": 4,
 "nbformat_minor": 2
}
