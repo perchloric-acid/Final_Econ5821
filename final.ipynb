{
 "cells": [
  {
   "attachments": {},
   "cell_type": "markdown",
   "metadata": {},
   "source": [
    "First, we load data into memory and perform a simple statistical analysis on the data."
   ]
  },
  {
   "cell_type": "code",
   "execution_count": 1,
   "metadata": {
    "vscode": {
     "languageId": "r"
    }
   },
   "outputs": [
    {
     "data": {
      "text/plain": [
       "     month             CPI       \n",
       " Min.   :  1.00   Min.   : 98.2  \n",
       " 1st Qu.: 42.75   1st Qu.:101.5  \n",
       " Median : 84.50   Median :102.3  \n",
       " Mean   : 84.50   Mean   :102.7  \n",
       " 3rd Qu.:126.25   3rd Qu.:103.6  \n",
       " Max.   :168.00   Max.   :108.7  "
      ]
     },
     "metadata": {},
     "output_type": "display_data"
    },
    {
     "data": {
      "text/plain": [
       "     month             PPI        \n",
       " Min.   :  1.00   Min.   : 91.80  \n",
       " 1st Qu.: 42.75   1st Qu.: 97.92  \n",
       " Median : 84.50   Median :102.46  \n",
       " Mean   : 84.50   Mean   :101.46  \n",
       " 3rd Qu.:126.25   3rd Qu.:105.22  \n",
       " Max.   :168.00   Max.   :110.10  "
      ]
     },
     "metadata": {},
     "output_type": "display_data"
    }
   ],
   "source": [
    "set.seed(666)\n",
    "data <- load(url(\"https://github.com/zhentaoshi/Econ5821/raw/main/data_example/dataset_inf.Rdata\"))\n",
    "summary(cpi)\n",
    "summary(ppi)"
   ]
  },
  {
   "attachments": {},
   "cell_type": "markdown",
   "metadata": {},
   "source": [
    "Then, we join the features, cpi and ppi together using \\`month\\`. Since we can only use features in the past to forecast current ppi or cpi, we put the cpi or ppi with the features of last month together."
   ]
  },
  {
   "cell_type": "code",
   "execution_count": 2,
   "metadata": {
    "vscode": {
     "languageId": "r"
    }
   },
   "outputs": [],
   "source": [
    "cpi$month = cpi$month - 1\n",
    "ppi$month = ppi$month - 1\n",
    "data <- merge(X, cpi, by=\"month\")\n",
    "data <- merge(data, ppi, by=\"month\")"
   ]
  },
  {
   "attachments": {},
   "cell_type": "markdown",
   "metadata": {},
   "source": [
    "We will use r square as our criteria.\n",
    "\n",
    "We first try XGBoost.\n",
    "\n",
    "As XGBoost using specific data format, we must transform our data to DMatrix. And at the same time, we split the data into training data and testing data by the ratio 8:2."
   ]
  },
  {
   "cell_type": "code",
   "execution_count": 3,
   "metadata": {
    "vscode": {
     "languageId": "r"
    }
   },
   "outputs": [
    {
     "name": "stderr",
     "output_type": "stream",
     "text": [
      "Warning message:\n",
      "\"package 'xgboost' was built under R version 4.2.3\"\n"
     ]
    }
   ],
   "source": [
    "library(xgboost)\n",
    "library(Matrix)\n",
    "\n",
    "train_index = sample(nrow(data),0.8*nrow(data))\n",
    "train_data = data[train_index,]\n",
    "test_data = data[-train_index,]\n",
    "trainX = data.matrix(train_data[,c(2:152,154)])\n",
    "trainX = Matrix(trainX,sparse=T)\n",
    "trainY = train_data[,153]\n",
    "data = list(x = trainX, y = trainY )\n",
    "dtrain = xgb.DMatrix(data = data$x, label = data$y)\n",
    "\n",
    "testX = data.matrix(test_data[,c(2:152,154)])\n",
    "testX = Matrix(testX,sparse=T)\n",
    "testY = test_data[,153]\n",
    "data = list(x = testX, y = testY )\n",
    "dtest = xgb.DMatrix(data = data$x, label = data$y)"
   ]
  },
  {
   "attachments": {},
   "cell_type": "markdown",
   "metadata": {},
   "source": [
    "After preparing the training data and testing data, we start to train the XGBoost model， we tried different combinations of hyper-parameters. Lastly, we can get the best model below."
   ]
  },
  {
   "cell_type": "code",
   "execution_count": 4,
   "metadata": {
    "vscode": {
     "languageId": "r"
    }
   },
   "outputs": [
    {
     "name": "stdout",
     "output_type": "stream",
     "text": [
      "[1]\ttrain-rmse:92.094273 \n",
      "[2]\ttrain-rmse:82.958074 \n",
      "[3]\ttrain-rmse:74.729167 \n",
      "[4]\ttrain-rmse:67.317563 \n",
      "[5]\ttrain-rmse:60.642196 \n",
      "[6]\ttrain-rmse:54.630061 \n",
      "[7]\ttrain-rmse:49.215405 \n",
      "[8]\ttrain-rmse:44.339010 \n",
      "[9]\ttrain-rmse:39.947541 \n",
      "[10]\ttrain-rmse:35.992971 \n",
      "[11]\ttrain-rmse:32.432041 \n",
      "[12]\ttrain-rmse:29.225809 \n",
      "[13]\ttrain-rmse:26.339212 \n",
      "[14]\ttrain-rmse:23.740668 \n",
      "[15]\ttrain-rmse:21.401759 \n",
      "[16]\ttrain-rmse:19.296900 \n",
      "[17]\ttrain-rmse:17.403064 \n",
      "[18]\ttrain-rmse:15.699530 \n",
      "[19]\ttrain-rmse:14.164704 \n",
      "[20]\ttrain-rmse:12.781635 \n",
      "[21]\ttrain-rmse:11.535601 \n",
      "[22]\ttrain-rmse:10.411638 \n",
      "[23]\ttrain-rmse:9.398562 \n",
      "[24]\ttrain-rmse:8.485733 \n",
      "[25]\ttrain-rmse:7.662020 \n",
      "[26]\ttrain-rmse:6.919575 \n",
      "[27]\ttrain-rmse:6.250763 \n",
      "[28]\ttrain-rmse:5.647551 \n",
      "[29]\ttrain-rmse:5.103761 \n",
      "[30]\ttrain-rmse:4.614569 \n",
      "[31]\ttrain-rmse:4.172623 \n",
      "[32]\ttrain-rmse:3.774740 \n",
      "[33]\ttrain-rmse:3.415618 \n",
      "[34]\ttrain-rmse:3.093058 \n",
      "[35]\ttrain-rmse:2.801996 \n",
      "[36]\ttrain-rmse:2.539242 \n",
      "[37]\ttrain-rmse:2.302804 \n",
      "[38]\ttrain-rmse:2.089932 \n",
      "[39]\ttrain-rmse:1.897669 \n",
      "[40]\ttrain-rmse:1.724532 \n",
      "[41]\ttrain-rmse:1.567762 \n",
      "[42]\ttrain-rmse:1.426064 \n",
      "[43]\ttrain-rmse:1.298433 \n",
      "[44]\ttrain-rmse:1.183720 \n",
      "[45]\ttrain-rmse:1.079719 \n",
      "[46]\ttrain-rmse:0.985722 \n",
      "[47]\ttrain-rmse:0.900636 \n",
      "[48]\ttrain-rmse:0.823738 \n",
      "[49]\ttrain-rmse:0.754288 \n",
      "[50]\ttrain-rmse:0.691732 \n",
      "[51]\ttrain-rmse:0.633921 \n",
      "[52]\ttrain-rmse:0.582814 \n",
      "[53]\ttrain-rmse:0.536160 \n",
      "[54]\ttrain-rmse:0.494528 \n",
      "[55]\ttrain-rmse:0.456616 \n",
      "[56]\ttrain-rmse:0.422509 \n",
      "[57]\ttrain-rmse:0.391093 \n",
      "[58]\ttrain-rmse:0.362349 \n",
      "[59]\ttrain-rmse:0.336448 \n",
      "[60]\ttrain-rmse:0.312243 \n",
      "[61]\ttrain-rmse:0.291183 \n",
      "[62]\ttrain-rmse:0.271744 \n",
      "[63]\ttrain-rmse:0.253514 \n",
      "[64]\ttrain-rmse:0.236623 \n",
      "[65]\ttrain-rmse:0.222090 \n",
      "[66]\ttrain-rmse:0.208365 \n",
      "[67]\ttrain-rmse:0.196876 \n",
      "[68]\ttrain-rmse:0.185753 \n",
      "[69]\ttrain-rmse:0.175168 \n",
      "[70]\ttrain-rmse:0.165901 \n",
      "[71]\ttrain-rmse:0.157554 \n",
      "[72]\ttrain-rmse:0.149852 \n",
      "[73]\ttrain-rmse:0.141784 \n",
      "[74]\ttrain-rmse:0.135396 \n",
      "[75]\ttrain-rmse:0.129696 \n",
      "[76]\ttrain-rmse:0.123528 \n",
      "[77]\ttrain-rmse:0.118250 \n",
      "[78]\ttrain-rmse:0.112930 \n",
      "[79]\ttrain-rmse:0.107510 \n",
      "[80]\ttrain-rmse:0.103650 \n",
      "[81]\ttrain-rmse:0.099016 \n",
      "[82]\ttrain-rmse:0.095561 \n",
      "[83]\ttrain-rmse:0.092198 \n",
      "[84]\ttrain-rmse:0.088755 \n",
      "[85]\ttrain-rmse:0.085880 \n",
      "[86]\ttrain-rmse:0.082884 \n",
      "[87]\ttrain-rmse:0.080214 \n",
      "[88]\ttrain-rmse:0.077771 \n",
      "[89]\ttrain-rmse:0.075079 \n",
      "[90]\ttrain-rmse:0.073127 \n",
      "[91]\ttrain-rmse:0.070397 \n",
      "[92]\ttrain-rmse:0.068506 \n",
      "[93]\ttrain-rmse:0.066484 \n",
      "[94]\ttrain-rmse:0.064982 \n",
      "[95]\ttrain-rmse:0.062670 \n",
      "[96]\ttrain-rmse:0.061247 \n",
      "[97]\ttrain-rmse:0.059046 \n",
      "[98]\ttrain-rmse:0.057074 \n",
      "[99]\ttrain-rmse:0.054950 \n",
      "[100]\ttrain-rmse:0.052708 \n",
      "[101]\ttrain-rmse:0.051019 \n",
      "[102]\ttrain-rmse:0.048433 \n",
      "[103]\ttrain-rmse:0.046199 \n",
      "[104]\ttrain-rmse:0.044323 \n",
      "[105]\ttrain-rmse:0.042327 \n",
      "[106]\ttrain-rmse:0.040694 \n",
      "[107]\ttrain-rmse:0.039214 \n",
      "[108]\ttrain-rmse:0.037435 \n",
      "[109]\ttrain-rmse:0.035760 \n",
      "[110]\ttrain-rmse:0.034636 \n",
      "[111]\ttrain-rmse:0.033501 \n",
      "[112]\ttrain-rmse:0.032069 \n",
      "[113]\ttrain-rmse:0.031086 \n",
      "[114]\ttrain-rmse:0.030200 \n",
      "[115]\ttrain-rmse:0.028913 \n",
      "[116]\ttrain-rmse:0.027873 \n",
      "[117]\ttrain-rmse:0.026900 \n",
      "[118]\ttrain-rmse:0.025577 \n",
      "[119]\ttrain-rmse:0.024973 \n",
      "[120]\ttrain-rmse:0.024026 \n",
      "[121]\ttrain-rmse:0.022825 \n",
      "[122]\ttrain-rmse:0.021588 \n",
      "[123]\ttrain-rmse:0.020530 \n",
      "[124]\ttrain-rmse:0.019803 \n",
      "[125]\ttrain-rmse:0.019297 \n",
      "[126]\ttrain-rmse:0.018307 \n",
      "[127]\ttrain-rmse:0.017533 \n",
      "[128]\ttrain-rmse:0.017036 \n",
      "[129]\ttrain-rmse:0.016325 \n",
      "[130]\ttrain-rmse:0.015800 \n",
      "[131]\ttrain-rmse:0.015345 \n",
      "[132]\ttrain-rmse:0.014809 \n",
      "[133]\ttrain-rmse:0.014279 \n",
      "[134]\ttrain-rmse:0.013721 \n",
      "[135]\ttrain-rmse:0.013354 \n",
      "[136]\ttrain-rmse:0.012918 \n",
      "[137]\ttrain-rmse:0.012578 \n",
      "[138]\ttrain-rmse:0.012226 \n",
      "[139]\ttrain-rmse:0.011802 \n",
      "[140]\ttrain-rmse:0.011397 \n",
      "[141]\ttrain-rmse:0.010935 \n",
      "[142]\ttrain-rmse:0.010681 \n",
      "[143]\ttrain-rmse:0.010373 \n",
      "[144]\ttrain-rmse:0.010151 \n",
      "[145]\ttrain-rmse:0.009641 \n",
      "[146]\ttrain-rmse:0.009351 \n",
      "[147]\ttrain-rmse:0.008854 \n",
      "[148]\ttrain-rmse:0.008642 \n",
      "[149]\ttrain-rmse:0.008369 \n",
      "[150]\ttrain-rmse:0.008086 \n",
      "[151]\ttrain-rmse:0.007696 \n",
      "[152]\ttrain-rmse:0.007556 \n",
      "[153]\ttrain-rmse:0.007193 \n",
      "[154]\ttrain-rmse:0.007040 \n",
      "[155]\ttrain-rmse:0.006738 \n",
      "[156]\ttrain-rmse:0.006394 \n",
      "[157]\ttrain-rmse:0.006194 \n",
      "[158]\ttrain-rmse:0.005860 \n",
      "[159]\ttrain-rmse:0.005735 \n",
      "[160]\ttrain-rmse:0.005551 \n",
      "[161]\ttrain-rmse:0.005450 \n",
      "[162]\ttrain-rmse:0.005184 \n",
      "[163]\ttrain-rmse:0.005008 \n",
      "[164]\ttrain-rmse:0.004916 \n",
      "[165]\ttrain-rmse:0.004794 \n",
      "[166]\ttrain-rmse:0.004599 \n",
      "[167]\ttrain-rmse:0.004461 \n",
      "[168]\ttrain-rmse:0.004292 \n",
      "[169]\ttrain-rmse:0.004183 \n",
      "[170]\ttrain-rmse:0.004061 \n",
      "[171]\ttrain-rmse:0.003959 \n",
      "[172]\ttrain-rmse:0.003883 \n",
      "[173]\ttrain-rmse:0.003762 \n",
      "[174]\ttrain-rmse:0.003673 \n",
      "[175]\ttrain-rmse:0.003584 \n",
      "[176]\ttrain-rmse:0.003482 \n",
      "[177]\ttrain-rmse:0.003400 \n",
      "[178]\ttrain-rmse:0.003335 \n",
      "[179]\ttrain-rmse:0.003258 \n",
      "[180]\ttrain-rmse:0.003191 \n",
      "[181]\ttrain-rmse:0.003075 \n",
      "[182]\ttrain-rmse:0.003014 \n",
      "[183]\ttrain-rmse:0.002901 \n",
      "[184]\ttrain-rmse:0.002838 \n",
      "[185]\ttrain-rmse:0.002735 \n",
      "[186]\ttrain-rmse:0.002684 \n",
      "[187]\ttrain-rmse:0.002634 \n",
      "[188]\ttrain-rmse:0.002566 \n",
      "[189]\ttrain-rmse:0.002491 \n",
      "[190]\ttrain-rmse:0.002438 \n",
      "[191]\ttrain-rmse:0.002398 \n",
      "[192]\ttrain-rmse:0.002263 \n",
      "[193]\ttrain-rmse:0.002218 \n",
      "[194]\ttrain-rmse:0.002175 \n",
      "[195]\ttrain-rmse:0.002117 \n",
      "[196]\ttrain-rmse:0.002011 \n",
      "[197]\ttrain-rmse:0.001955 \n",
      "[198]\ttrain-rmse:0.001908 \n",
      "[199]\ttrain-rmse:0.001848 \n",
      "[200]\ttrain-rmse:0.001783 \n",
      "[201]\ttrain-rmse:0.001742 \n",
      "[202]\ttrain-rmse:0.001700 \n",
      "[203]\ttrain-rmse:0.001677 \n",
      "[204]\ttrain-rmse:0.001640 \n",
      "[205]\ttrain-rmse:0.001603 \n",
      "[206]\ttrain-rmse:0.001570 \n",
      "[207]\ttrain-rmse:0.001527 \n",
      "[208]\ttrain-rmse:0.001483 \n",
      "[209]\ttrain-rmse:0.001436 \n",
      "[210]\ttrain-rmse:0.001403 \n",
      "[211]\ttrain-rmse:0.001373 \n",
      "[212]\ttrain-rmse:0.001334 \n",
      "[213]\ttrain-rmse:0.001310 \n",
      "[214]\ttrain-rmse:0.001287 \n",
      "[215]\ttrain-rmse:0.001263 \n",
      "[216]\ttrain-rmse:0.001217 \n",
      "[217]\ttrain-rmse:0.001199 \n",
      "[218]\ttrain-rmse:0.001178 \n",
      "[219]\ttrain-rmse:0.001156 \n",
      "[220]\ttrain-rmse:0.001124 \n",
      "[221]\ttrain-rmse:0.001101 \n",
      "[222]\ttrain-rmse:0.001078 \n",
      "[223]\ttrain-rmse:0.001056 \n",
      "[224]\ttrain-rmse:0.001036 \n",
      "[225]\ttrain-rmse:0.001003 \n",
      "[226]\ttrain-rmse:0.000977 \n",
      "[227]\ttrain-rmse:0.000962 \n",
      "[228]\ttrain-rmse:0.000924 \n",
      "[229]\ttrain-rmse:0.000901 \n",
      "[230]\ttrain-rmse:0.000868 \n",
      "[231]\ttrain-rmse:0.000843 \n",
      "[232]\ttrain-rmse:0.000810 \n",
      "[233]\ttrain-rmse:0.000789 \n",
      "[234]\ttrain-rmse:0.000775 \n",
      "[235]\ttrain-rmse:0.000737 \n",
      "[236]\ttrain-rmse:0.000710 \n",
      "[237]\ttrain-rmse:0.000697 \n",
      "[238]\ttrain-rmse:0.000670 \n",
      "[239]\ttrain-rmse:0.000648 \n",
      "[240]\ttrain-rmse:0.000629 \n",
      "[241]\ttrain-rmse:0.000609 \n",
      "[242]\ttrain-rmse:0.000593 \n",
      "[243]\ttrain-rmse:0.000579 \n",
      "[244]\ttrain-rmse:0.000565 \n",
      "[245]\ttrain-rmse:0.000550 \n",
      "[246]\ttrain-rmse:0.000533 \n"
     ]
    },
    {
     "data": {
      "text/html": [
       "0.940676104167206"
      ],
      "text/latex": [
       "0.940676104167206"
      ],
      "text/markdown": [
       "0.940676104167206"
      ],
      "text/plain": [
       "[1] 0.9406761"
      ]
     },
     "metadata": {},
     "output_type": "display_data"
    },
    {
     "data": {
      "text/html": [
       "0.999999928244808"
      ],
      "text/latex": [
       "0.999999928244808"
      ],
      "text/markdown": [
       "0.999999928244808"
      ],
      "text/plain": [
       "[1] 0.9999999"
      ]
     },
     "metadata": {},
     "output_type": "display_data"
    }
   ],
   "source": [
    "xgb <- xgboost(data = dtrain,max_depth=4,eta=0.1, nround=246)\n",
    "#test data (oos r2)\n",
    "pre_xgb = predict(xgb,newdata = dtest)\n",
    "rss = var(testY - pre_xgb)\n",
    "tss = var(testY)\n",
    "oos_r2 = 1-rss/tss\n",
    "oos_r2\n",
    "#train data (is r2)\n",
    "pre_xgb = predict(xgb,newdata = dtrain)\n",
    "rss = var(trainY - pre_xgb)\n",
    "tss = var(trainY)\n",
    "is_r2 = 1-rss/tss\n",
    "is_r2"
   ]
  },
  {
   "attachments": {},
   "cell_type": "markdown",
   "metadata": {},
   "source": [
    "Then we use random forest."
   ]
  },
  {
   "cell_type": "code",
   "execution_count": 5,
   "metadata": {
    "vscode": {
     "languageId": "r"
    }
   },
   "outputs": [
    {
     "name": "stderr",
     "output_type": "stream",
     "text": [
      "randomForest 4.7-1.1\n",
      "\n",
      "Type rfNews() to see new features/changes/bug fixes.\n",
      "\n"
     ]
    },
    {
     "data": {
      "text/html": [
       "0.92638441310955"
      ],
      "text/latex": [
       "0.92638441310955"
      ],
      "text/markdown": [
       "0.92638441310955"
      ],
      "text/plain": [
       "[1] 0.9263844"
      ]
     },
     "metadata": {},
     "output_type": "display_data"
    },
    {
     "data": {
      "text/html": [
       "0.981803148273021"
      ],
      "text/latex": [
       "0.981803148273021"
      ],
      "text/markdown": [
       "0.981803148273021"
      ],
      "text/plain": [
       "[1] 0.9818031"
      ]
     },
     "metadata": {},
     "output_type": "display_data"
    }
   ],
   "source": [
    "library(randomForest)\n",
    "\n",
    "rf = randomForest(CPI ~ . ,ntree=100, data = train_data)\n",
    "#test data (oos r2)\n",
    "pre_rf = predict(rf,newdata = test_data)\n",
    "rss = var(testY - pre_rf)\n",
    "tss = var(testY)\n",
    "oos_r2 = 1-rss/tss\n",
    "oos_r2\n",
    "#train data (is r2)\n",
    "pre_rf = predict(rf,newdata = train_data)\n",
    "rss = var(trainY - pre_rf)\n",
    "tss = var(trainY)\n",
    "is_r2 = 1-rss/tss\n",
    "is_r2"
   ]
  },
  {
   "attachments": {},
   "cell_type": "markdown",
   "metadata": {},
   "source": [
    "kNN"
   ]
  },
  {
   "cell_type": "code",
   "execution_count": 6,
   "metadata": {
    "vscode": {
     "languageId": "r"
    }
   },
   "outputs": [
    {
     "name": "stderr",
     "output_type": "stream",
     "text": [
      "Warning message:\n",
      "\"package 'caret' was built under R version 4.2.3\"\n",
      "Loading required package: ggplot2\n",
      "\n",
      "\n",
      "Attaching package: 'ggplot2'\n",
      "\n",
      "\n",
      "The following object is masked from 'package:randomForest':\n",
      "\n",
      "    margin\n",
      "\n",
      "\n",
      "Loading required package: lattice\n",
      "\n"
     ]
    },
    {
     "data": {
      "text/html": [
       "0.647926611856402"
      ],
      "text/latex": [
       "0.647926611856402"
      ],
      "text/markdown": [
       "0.647926611856402"
      ],
      "text/plain": [
       "[1] 0.6479266"
      ]
     },
     "metadata": {},
     "output_type": "display_data"
    },
    {
     "data": {
      "text/html": [
       "0.734187668321621"
      ],
      "text/latex": [
       "0.734187668321621"
      ],
      "text/markdown": [
       "0.734187668321621"
      ],
      "text/plain": [
       "[1] 0.7341877"
      ]
     },
     "metadata": {},
     "output_type": "display_data"
    }
   ],
   "source": [
    "library(caret)\n",
    "control = trainControl(method = 'cv',number = 10)\n",
    "kNN = train(CPI~.,train_data,\n",
    "               method = 'knn',\n",
    "               trControl = control,\n",
    "               tuneLength = 5)\n",
    "#test data (oos r2)\n",
    "pre_kNN = predict(kNN,newdata = test_data)\n",
    "rss = var(testY - pre_kNN)\n",
    "tss = var(testY)\n",
    "oos_r2 = 1-rss/tss\n",
    "oos_r2\n",
    "#train data (is r2)\n",
    "pre_kNN = predict(kNN,newdata = train_data)\n",
    "rss = var(trainY - pre_kNN)\n",
    "tss = var(trainY)\n",
    "is_r2 = 1-rss/tss\n",
    "is_r2"
   ]
  },
  {
   "attachments": {},
   "cell_type": "markdown",
   "metadata": {},
   "source": [
    "decision tree"
   ]
  },
  {
   "cell_type": "code",
   "execution_count": 7,
   "metadata": {
    "vscode": {
     "languageId": "r"
    }
   },
   "outputs": [
    {
     "data": {
      "text/html": [
       "0.857452809999938"
      ],
      "text/latex": [
       "0.857452809999938"
      ],
      "text/markdown": [
       "0.857452809999938"
      ],
      "text/plain": [
       "[1] 0.8574528"
      ]
     },
     "metadata": {},
     "output_type": "display_data"
    },
    {
     "data": {
      "text/html": [
       "0.914599201777328"
      ],
      "text/latex": [
       "0.914599201777328"
      ],
      "text/markdown": [
       "0.914599201777328"
      ],
      "text/plain": [
       "[1] 0.9145992"
      ]
     },
     "metadata": {},
     "output_type": "display_data"
    }
   ],
   "source": [
    "library(rpart)\n",
    "DT = rpart(CPI~., train_data)\n",
    "#test data (oos r2)\n",
    "pre_DT = predict(DT, newdata = test_data)\n",
    "rss = var(testY - pre_DT)\n",
    "tss = var(testY)\n",
    "oos_r2 = 1-rss/tss\n",
    "oos_r2\n",
    "#train data (is r2)\n",
    "pre_DT = predict(DT, newdata = train_data)\n",
    "rss = var(trainY - pre_DT)\n",
    "tss = var(trainY)\n",
    "is_r2 = 1-rss/tss\n",
    "is_r2"
   ]
  },
  {
   "attachments": {},
   "cell_type": "markdown",
   "metadata": {},
   "source": [
    "lasso"
   ]
  },
  {
   "cell_type": "code",
   "execution_count": 8,
   "metadata": {
    "vscode": {
     "languageId": "r"
    }
   },
   "outputs": [
    {
     "name": "stderr",
     "output_type": "stream",
     "text": [
      "Loaded glmnet 4.1-6\n",
      "\n"
     ]
    },
    {
     "data": {
      "text/html": [
       "<table class=\"dataframe\">\n",
       "<caption>A matrix: 1 × 1 of type dbl</caption>\n",
       "<thead>\n",
       "\t<tr><th></th><th scope=col>s0</th></tr>\n",
       "</thead>\n",
       "<tbody>\n",
       "\t<tr><th scope=row>s0</th><td>0.9559302</td></tr>\n",
       "</tbody>\n",
       "</table>\n"
      ],
      "text/latex": [
       "A matrix: 1 × 1 of type dbl\n",
       "\\begin{tabular}{r|l}\n",
       "  & s0\\\\\n",
       "\\hline\n",
       "\ts0 & 0.9559302\\\\\n",
       "\\end{tabular}\n"
      ],
      "text/markdown": [
       "\n",
       "A matrix: 1 × 1 of type dbl\n",
       "\n",
       "| <!--/--> | s0 |\n",
       "|---|---|\n",
       "| s0 | 0.9559302 |\n",
       "\n"
      ],
      "text/plain": [
       "   s0       \n",
       "s0 0.9559302"
      ]
     },
     "metadata": {},
     "output_type": "display_data"
    },
    {
     "data": {
      "text/html": [
       "<table class=\"dataframe\">\n",
       "<caption>A matrix: 1 × 1 of type dbl</caption>\n",
       "<thead>\n",
       "\t<tr><th></th><th scope=col>s0</th></tr>\n",
       "</thead>\n",
       "<tbody>\n",
       "\t<tr><th scope=row>s0</th><td>0.9588158</td></tr>\n",
       "</tbody>\n",
       "</table>\n"
      ],
      "text/latex": [
       "A matrix: 1 × 1 of type dbl\n",
       "\\begin{tabular}{r|l}\n",
       "  & s0\\\\\n",
       "\\hline\n",
       "\ts0 & 0.9588158\\\\\n",
       "\\end{tabular}\n"
      ],
      "text/markdown": [
       "\n",
       "A matrix: 1 × 1 of type dbl\n",
       "\n",
       "| <!--/--> | s0 |\n",
       "|---|---|\n",
       "| s0 | 0.9588158 |\n",
       "\n"
      ],
      "text/plain": [
       "   s0       \n",
       "s0 0.9588158"
      ]
     },
     "metadata": {},
     "output_type": "display_data"
    }
   ],
   "source": [
    "library(glmnet)\n",
    "x = trainX\n",
    "y = trainY\n",
    "cv_lasso = cv.glmnet(x, y)\n",
    "lasso_result = glmnet(x, y, lambda = cv_lasso$lambda.min)\n",
    "#test data (oos r2)\n",
    "pre_lasso = predict(lasso_result, newx = testX)\n",
    "rss = var(testY - pre_lasso)\n",
    "tss = var(testY)\n",
    "oos_r2 = 1-rss/tss\n",
    "oos_r2\n",
    "#train data (is r2)\n",
    "pre_lasso = predict(lasso_result, newx = trainX)\n",
    "rss = var(trainY - pre_lasso)\n",
    "tss = var(trainY)\n",
    "is_r2 = 1-rss/tss\n",
    "is_r2"
   ]
  },
  {
   "attachments": {},
   "cell_type": "markdown",
   "metadata": {},
   "source": [
    "neural network"
   ]
  },
  {
   "cell_type": "code",
   "execution_count": 16,
   "metadata": {
    "vscode": {
     "languageId": "r"
    }
   },
   "outputs": [
    {
     "name": "stderr",
     "output_type": "stream",
     "text": [
      "Warning message:\n",
      "\"package 'neuralnet' was built under R version 4.2.3\"\n"
     ]
    },
    {
     "data": {
      "text/html": [
       "<table class=\"dataframe\">\n",
       "<caption>A matrix: 1 × 1 of type dbl</caption>\n",
       "<tbody>\n",
       "\t<tr><td>0</td></tr>\n",
       "</tbody>\n",
       "</table>\n"
      ],
      "text/latex": [
       "A matrix: 1 × 1 of type dbl\n",
       "\\begin{tabular}{l}\n",
       "\t 0\\\\\n",
       "\\end{tabular}\n"
      ],
      "text/markdown": [
       "\n",
       "A matrix: 1 × 1 of type dbl\n",
       "\n",
       "| 0 |\n",
       "\n"
      ],
      "text/plain": [
       "     [,1]\n",
       "[1,] 0   "
      ]
     },
     "metadata": {},
     "output_type": "display_data"
    },
    {
     "data": {
      "text/html": [
       "<table class=\"dataframe\">\n",
       "<caption>A matrix: 1 × 1 of type dbl</caption>\n",
       "<tbody>\n",
       "\t<tr><td>0.05966124</td></tr>\n",
       "</tbody>\n",
       "</table>\n"
      ],
      "text/latex": [
       "A matrix: 1 × 1 of type dbl\n",
       "\\begin{tabular}{l}\n",
       "\t 0.05966124\\\\\n",
       "\\end{tabular}\n"
      ],
      "text/markdown": [
       "\n",
       "A matrix: 1 × 1 of type dbl\n",
       "\n",
       "| 0.05966124 |\n",
       "\n"
      ],
      "text/plain": [
       "     [,1]      \n",
       "[1,] 0.05966124"
      ]
     },
     "metadata": {},
     "output_type": "display_data"
    }
   ],
   "source": [
    "library(neuralnet)\n",
    "nn = neuralnet(CPI ~ ., train_data,hidden = 5)\n",
    "#test data (oos r2)\n",
    "pre_nn = predict(nn, newdata = test_data)\n",
    "rss = var(testY - pre_nn)\n",
    "tss = var(testY)\n",
    "oos_r2 = 1-rss/tss\n",
    "oos_r2\n",
    "#train data (is r2)\n",
    "pre_nn = predict(nn, newdata = train_data)\n",
    "rss = var(trainY - pre_nn)\n",
    "tss = var(trainY)\n",
    "is_r2 = 1-rss/tss\n",
    "is_r2"
   ]
  },
  {
   "attachments": {},
   "cell_type": "markdown",
   "metadata": {},
   "source": [
    "By comparing the results of CPI above, we can see that the xgboost has the best r2 in the train data set, but lasso has the best r2 in the test data set."
   ]
  },
  {
   "attachments": {},
   "cell_type": "markdown",
   "metadata": {},
   "source": [
    "As for ppi, we first use XGBoost."
   ]
  },
  {
   "cell_type": "code",
   "execution_count": 9,
   "metadata": {
    "vscode": {
     "languageId": "r"
    }
   },
   "outputs": [],
   "source": [
    "PPItrainX = data.matrix(train_data[,c(2:153)])\n",
    "PPItrainX = Matrix(trainX,sparse=T)\n",
    "PPItrainY = train_data[,154]\n",
    "data = list(x = PPItrainX, y = PPItrainY )\n",
    "PPIdtrain = xgb.DMatrix(data = data$x, label = data$y)\n",
    "\n",
    "PPItestX = data.matrix(test_data[,c(2:153)])\n",
    "PPItestX = Matrix(testX,sparse=T)\n",
    "PPItestY = test_data[,154]\n",
    "data = list(x = PPItestX, y = PPItestY )\n",
    "PPIdtest = xgb.DMatrix(data = data$x, label = data$y)"
   ]
  },
  {
   "cell_type": "code",
   "execution_count": 10,
   "metadata": {
    "vscode": {
     "languageId": "r"
    }
   },
   "outputs": [
    {
     "name": "stdout",
     "output_type": "stream",
     "text": [
      "[1]\ttrain-rmse:70.961785 \n",
      "[2]\ttrain-rmse:49.932317 \n",
      "[3]\ttrain-rmse:35.206667 \n",
      "[4]\ttrain-rmse:24.841854 \n",
      "[5]\ttrain-rmse:17.555903 \n",
      "[6]\ttrain-rmse:12.430062 \n",
      "[7]\ttrain-rmse:8.802840 \n",
      "[8]\ttrain-rmse:6.243671 \n",
      "[9]\ttrain-rmse:4.440135 \n",
      "[10]\ttrain-rmse:3.172052 \n",
      "[11]\ttrain-rmse:2.273734 \n",
      "[12]\ttrain-rmse:1.639541 \n",
      "[13]\ttrain-rmse:1.193533 \n",
      "[14]\ttrain-rmse:0.878736 \n",
      "[15]\ttrain-rmse:0.656639 \n",
      "[16]\ttrain-rmse:0.497698 \n",
      "[17]\ttrain-rmse:0.379529 \n",
      "[18]\ttrain-rmse:0.293322 \n",
      "[19]\ttrain-rmse:0.229822 \n",
      "[20]\ttrain-rmse:0.182401 \n",
      "[21]\ttrain-rmse:0.146134 \n",
      "[22]\ttrain-rmse:0.118486 \n",
      "[23]\ttrain-rmse:0.096670 \n",
      "[24]\ttrain-rmse:0.079631 \n",
      "[25]\ttrain-rmse:0.065997 \n",
      "[26]\ttrain-rmse:0.054946 \n",
      "[27]\ttrain-rmse:0.045830 \n",
      "[28]\ttrain-rmse:0.038377 \n",
      "[29]\ttrain-rmse:0.032244 \n",
      "[30]\ttrain-rmse:0.027134 \n",
      "[31]\ttrain-rmse:0.022889 \n",
      "[32]\ttrain-rmse:0.019333 \n",
      "[33]\ttrain-rmse:0.016334 \n",
      "[34]\ttrain-rmse:0.013813 \n",
      "[35]\ttrain-rmse:0.011703 \n",
      "[36]\ttrain-rmse:0.009918 \n",
      "[37]\ttrain-rmse:0.008409 \n",
      "[38]\ttrain-rmse:0.007126 \n",
      "[39]\ttrain-rmse:0.006047 \n",
      "[40]\ttrain-rmse:0.005135 \n",
      "[41]\ttrain-rmse:0.004363 \n",
      "[42]\ttrain-rmse:0.003710 \n",
      "[43]\ttrain-rmse:0.003155 \n",
      "[44]\ttrain-rmse:0.002684 \n",
      "[45]\ttrain-rmse:0.002285 \n",
      "[46]\ttrain-rmse:0.001951 \n",
      "[47]\ttrain-rmse:0.001666 \n",
      "[48]\ttrain-rmse:0.001429 \n",
      "[49]\ttrain-rmse:0.001231 \n",
      "[50]\ttrain-rmse:0.001053 \n",
      "[51]\ttrain-rmse:0.000914 \n",
      "[52]\ttrain-rmse:0.000800 \n",
      "[53]\ttrain-rmse:0.000707 \n",
      "[54]\ttrain-rmse:0.000631 \n",
      "[55]\ttrain-rmse:0.000573 \n",
      "[56]\ttrain-rmse:0.000525 \n",
      "[57]\ttrain-rmse:0.000488 \n",
      "[58]\ttrain-rmse:0.000440 \n",
      "[59]\ttrain-rmse:0.000420 \n",
      "[60]\ttrain-rmse:0.000403 \n",
      "[61]\ttrain-rmse:0.000391 \n",
      "[62]\ttrain-rmse:0.000382 \n",
      "[63]\ttrain-rmse:0.000376 \n"
     ]
    },
    {
     "data": {
      "text/html": [
       "0.989634276991007"
      ],
      "text/latex": [
       "0.989634276991007"
      ],
      "text/markdown": [
       "0.989634276991007"
      ],
      "text/plain": [
       "[1] 0.9896343"
      ]
     },
     "metadata": {},
     "output_type": "display_data"
    },
    {
     "data": {
      "text/html": [
       "0.999999992838618"
      ],
      "text/latex": [
       "0.999999992838618"
      ],
      "text/markdown": [
       "0.999999992838618"
      ],
      "text/plain": [
       "[1] 1"
      ]
     },
     "metadata": {},
     "output_type": "display_data"
    }
   ],
   "source": [
    "PPIxgb <- xgboost(data = PPIdtrain, max_depth = 12, eta = 0.3,nround=63)\n",
    "#test data (oos r2)\n",
    "pre_PPIxgb = predict(PPIxgb,newdata = PPIdtest)\n",
    "rss = var(PPItestY - pre_PPIxgb)\n",
    "tss = var(PPItestY)\n",
    "oos_r2 = 1-rss/tss\n",
    "oos_r2\n",
    "#train data (is r2)\n",
    "pre_PPIxgb = predict(PPIxgb,newdata = PPIdtrain)\n",
    "rss = var(PPItrainY - pre_PPIxgb)\n",
    "tss = var(PPItrainY)\n",
    "is_r2 = 1-rss/tss\n",
    "is_r2"
   ]
  },
  {
   "attachments": {},
   "cell_type": "markdown",
   "metadata": {},
   "source": [
    "randomForest"
   ]
  },
  {
   "cell_type": "code",
   "execution_count": 11,
   "metadata": {
    "vscode": {
     "languageId": "r"
    }
   },
   "outputs": [
    {
     "data": {
      "text/html": [
       "0.953858776430202"
      ],
      "text/latex": [
       "0.953858776430202"
      ],
      "text/markdown": [
       "0.953858776430202"
      ],
      "text/plain": [
       "[1] 0.9538588"
      ]
     },
     "metadata": {},
     "output_type": "display_data"
    },
    {
     "data": {
      "text/html": [
       "0.994685715239237"
      ],
      "text/latex": [
       "0.994685715239237"
      ],
      "text/markdown": [
       "0.994685715239237"
      ],
      "text/plain": [
       "[1] 0.9946857"
      ]
     },
     "metadata": {},
     "output_type": "display_data"
    }
   ],
   "source": [
    "rf = randomForest(PPI ~ . , data = train_data,ntree = 500)\n",
    "\n",
    "#test data (oos r2)\n",
    "pre_rf = predict(rf,newdata = test_data)\n",
    "rss = var(PPItestY - pre_rf)\n",
    "tss = var(PPItestY)\n",
    "oos_r2 = 1-rss/tss\n",
    "oos_r2\n",
    "#train data (is r2)\n",
    "pre_rf = predict(rf,newdata = train_data)\n",
    "rss = var(PPItrainY - pre_rf)\n",
    "tss = var(PPItrainY)\n",
    "is_r2 = 1-rss/tss\n",
    "is_r2"
   ]
  },
  {
   "attachments": {},
   "cell_type": "markdown",
   "metadata": {},
   "source": [
    "kNN"
   ]
  },
  {
   "cell_type": "code",
   "execution_count": 12,
   "metadata": {
    "vscode": {
     "languageId": "r"
    }
   },
   "outputs": [
    {
     "data": {
      "text/html": [
       "0.781105510029238"
      ],
      "text/latex": [
       "0.781105510029238"
      ],
      "text/markdown": [
       "0.781105510029238"
      ],
      "text/plain": [
       "[1] 0.7811055"
      ]
     },
     "metadata": {},
     "output_type": "display_data"
    },
    {
     "data": {
      "text/html": [
       "0.866578435022484"
      ],
      "text/latex": [
       "0.866578435022484"
      ],
      "text/markdown": [
       "0.866578435022484"
      ],
      "text/plain": [
       "[1] 0.8665784"
      ]
     },
     "metadata": {},
     "output_type": "display_data"
    }
   ],
   "source": [
    "control = trainControl(method = 'cv',number = 10)\n",
    "kNN = train(PPI~.,train_data,\n",
    "               method = 'knn',\n",
    "               trControl = control,\n",
    "               tuneLength = 5)\n",
    "#test data (oos r2)\n",
    "pre_kNN = predict(kNN,newdata = test_data)\n",
    "rss = var(PPItestY - pre_kNN)\n",
    "tss = var(PPItestY)\n",
    "oos_r2 = 1-rss/tss\n",
    "oos_r2\n",
    "#train data (is r2)\n",
    "pre_kNN = predict(kNN,newdata = train_data)\n",
    "rss = var(PPItrainY - pre_kNN)\n",
    "tss = var(PPItrainY)\n",
    "is_r2 = 1-rss/tss\n",
    "is_r2"
   ]
  },
  {
   "attachments": {},
   "cell_type": "markdown",
   "metadata": {},
   "source": [
    "decision tree"
   ]
  },
  {
   "cell_type": "code",
   "execution_count": 13,
   "metadata": {
    "vscode": {
     "languageId": "r"
    }
   },
   "outputs": [
    {
     "data": {
      "text/html": [
       "0.922003763608718"
      ],
      "text/latex": [
       "0.922003763608718"
      ],
      "text/markdown": [
       "0.922003763608718"
      ],
      "text/plain": [
       "[1] 0.9220038"
      ]
     },
     "metadata": {},
     "output_type": "display_data"
    },
    {
     "data": {
      "text/html": [
       "0.95060278827335"
      ],
      "text/latex": [
       "0.95060278827335"
      ],
      "text/markdown": [
       "0.95060278827335"
      ],
      "text/plain": [
       "[1] 0.9506028"
      ]
     },
     "metadata": {},
     "output_type": "display_data"
    }
   ],
   "source": [
    "DT = rpart(PPI~., train_data)\n",
    "#test data (oos r2)\n",
    "pre_DT = predict(DT, newdata = test_data)\n",
    "rss = var(PPItestY - pre_DT)\n",
    "tss = var(PPItestY)\n",
    "oos_r2 = 1-rss/tss\n",
    "oos_r2\n",
    "#train data (is r2)\n",
    "pre_DT = predict(DT, newdata = train_data)\n",
    "rss = var(PPItrainY - pre_DT)\n",
    "tss = var(PPItrainY)\n",
    "is_r2 = 1-rss/tss\n",
    "is_r2"
   ]
  },
  {
   "attachments": {},
   "cell_type": "markdown",
   "metadata": {},
   "source": [
    "lasso"
   ]
  },
  {
   "cell_type": "code",
   "execution_count": 14,
   "metadata": {
    "vscode": {
     "languageId": "r"
    }
   },
   "outputs": [
    {
     "data": {
      "text/html": [
       "<table class=\"dataframe\">\n",
       "<caption>A matrix: 1 × 1 of type dbl</caption>\n",
       "<thead>\n",
       "\t<tr><th></th><th scope=col>s0</th></tr>\n",
       "</thead>\n",
       "<tbody>\n",
       "\t<tr><th scope=row>s0</th><td>0.9990674</td></tr>\n",
       "</tbody>\n",
       "</table>\n"
      ],
      "text/latex": [
       "A matrix: 1 × 1 of type dbl\n",
       "\\begin{tabular}{r|l}\n",
       "  & s0\\\\\n",
       "\\hline\n",
       "\ts0 & 0.9990674\\\\\n",
       "\\end{tabular}\n"
      ],
      "text/markdown": [
       "\n",
       "A matrix: 1 × 1 of type dbl\n",
       "\n",
       "| <!--/--> | s0 |\n",
       "|---|---|\n",
       "| s0 | 0.9990674 |\n",
       "\n"
      ],
      "text/plain": [
       "   s0       \n",
       "s0 0.9990674"
      ]
     },
     "metadata": {},
     "output_type": "display_data"
    },
    {
     "data": {
      "text/html": [
       "<table class=\"dataframe\">\n",
       "<caption>A matrix: 1 × 1 of type dbl</caption>\n",
       "<thead>\n",
       "\t<tr><th></th><th scope=col>s0</th></tr>\n",
       "</thead>\n",
       "<tbody>\n",
       "\t<tr><th scope=row>s0</th><td>0.9990674</td></tr>\n",
       "</tbody>\n",
       "</table>\n"
      ],
      "text/latex": [
       "A matrix: 1 × 1 of type dbl\n",
       "\\begin{tabular}{r|l}\n",
       "  & s0\\\\\n",
       "\\hline\n",
       "\ts0 & 0.9990674\\\\\n",
       "\\end{tabular}\n"
      ],
      "text/markdown": [
       "\n",
       "A matrix: 1 × 1 of type dbl\n",
       "\n",
       "| <!--/--> | s0 |\n",
       "|---|---|\n",
       "| s0 | 0.9990674 |\n",
       "\n"
      ],
      "text/plain": [
       "   s0       \n",
       "s0 0.9990674"
      ]
     },
     "metadata": {},
     "output_type": "display_data"
    }
   ],
   "source": [
    "x = PPItrainX\n",
    "y = PPItrainY\n",
    "cv_lasso = cv.glmnet(x, y)\n",
    "lasso_result = glmnet(x, y, lambda = cv_lasso$lambda.min)\n",
    "#test data (oos r2)\n",
    "pre_lasso = predict(lasso_result, newx = PPItestX)\n",
    "rss = var(PPItestY - pre_lasso)\n",
    "tss = var(PPItestY)\n",
    "oos_r2 = 1-rss/tss\n",
    "oos_r2\n",
    "#train data (is r2)\n",
    "pre_lasso = predict(lasso_result, newx = PPItrainX)\n",
    "rss = var(PPItrainY - pre_lasso)\n",
    "tss = var(PPItrainY)\n",
    "is_r2 = 1-rss/tss\n",
    "is_r2"
   ]
  },
  {
   "attachments": {},
   "cell_type": "markdown",
   "metadata": {},
   "source": [
    "neural network"
   ]
  },
  {
   "cell_type": "code",
   "execution_count": 17,
   "metadata": {
    "vscode": {
     "languageId": "r"
    }
   },
   "outputs": [
    {
     "data": {
      "text/html": [
       "<table class=\"dataframe\">\n",
       "<caption>A matrix: 1 × 1 of type dbl</caption>\n",
       "<tbody>\n",
       "\t<tr><td>-0.1100742</td></tr>\n",
       "</tbody>\n",
       "</table>\n"
      ],
      "text/latex": [
       "A matrix: 1 × 1 of type dbl\n",
       "\\begin{tabular}{l}\n",
       "\t -0.1100742\\\\\n",
       "\\end{tabular}\n"
      ],
      "text/markdown": [
       "\n",
       "A matrix: 1 × 1 of type dbl\n",
       "\n",
       "| -0.1100742 |\n",
       "\n"
      ],
      "text/plain": [
       "     [,1]      \n",
       "[1,] -0.1100742"
      ]
     },
     "metadata": {},
     "output_type": "display_data"
    },
    {
     "data": {
      "text/html": [
       "<table class=\"dataframe\">\n",
       "<caption>A matrix: 1 × 1 of type dbl</caption>\n",
       "<tbody>\n",
       "\t<tr><td>0.01697305</td></tr>\n",
       "</tbody>\n",
       "</table>\n"
      ],
      "text/latex": [
       "A matrix: 1 × 1 of type dbl\n",
       "\\begin{tabular}{l}\n",
       "\t 0.01697305\\\\\n",
       "\\end{tabular}\n"
      ],
      "text/markdown": [
       "\n",
       "A matrix: 1 × 1 of type dbl\n",
       "\n",
       "| 0.01697305 |\n",
       "\n"
      ],
      "text/plain": [
       "     [,1]      \n",
       "[1,] 0.01697305"
      ]
     },
     "metadata": {},
     "output_type": "display_data"
    }
   ],
   "source": [
    "nn = neuralnet(PPI ~ ., train_data,hidden = 20)\n",
    "#test data (oos r2)\n",
    "pre_nn = predict(nn, newdata = test_data)\n",
    "rss = var(PPItestY - pre_nn)\n",
    "tss = var(PPItestY)\n",
    "oos_r2 = 1-rss/tss\n",
    "oos_r2\n",
    "#train data (is r2)\n",
    "pre_nn = predict(nn, newdata = train_data)\n",
    "rss = var(PPItrainY - pre_nn)\n",
    "tss = var(PPItrainY)\n",
    "is_r2 = 1-rss/tss\n",
    "is_r2"
   ]
  },
  {
   "attachments": {},
   "cell_type": "markdown",
   "metadata": {},
   "source": [
    "By comparing the results of PPI above, we can see that the xgboost has the best r2 in the train data set, but lasso has the best r2 in the test data set.\n",
    "\n",
    "We can now use lasso to make the prediction of both CPI and PPI."
   ]
  }
 ],
 "metadata": {
  "kernelspec": {
   "display_name": "R",
   "language": "R",
   "name": "ir"
  },
  "language_info": {
   "codemirror_mode": "r",
   "file_extension": ".r",
   "mimetype": "text/x-r-source",
   "name": "R",
   "pygments_lexer": "r",
   "version": "4.2.2"
  },
  "orig_nbformat": 4
 },
 "nbformat": 4,
 "nbformat_minor": 2
}
